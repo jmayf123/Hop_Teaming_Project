{
 "cells": [
  {
   "cell_type": "code",
   "execution_count": 2,
   "metadata": {},
   "outputs": [],
   "source": [
    "import pandas as pd \n",
    "import sqlite3"
   ]
  },
  {
   "cell_type": "code",
   "execution_count": 4,
   "metadata": {},
   "outputs": [],
   "source": [
    "db = sqlite3.connect('./data/hop_db.sqlite')\n",
    "\n",
    "# hop table\n",
    "db.execute('CREATE INDEX from_npi ON hop(from_npi)')\n",
    "db.execute('CREATE INDEX to_npi ON hop(to_npi)')\n",
    "db.execute('CREATE INDEX transaction_count ON hop(transaction_count)')\n",
    "db.execute('CREATE INDEX average_day_wait ON hop(average_day_wait)')\n",
    "\n",
    "db.close()"
   ]
  },
  {
   "cell_type": "code",
   "execution_count": 5,
   "metadata": {},
   "outputs": [],
   "source": [
    "\n",
    "db = sqlite3.connect('./data/hop_db.sqlite')\n",
    "\n",
    "# npidata table\n",
    "db.execute('CREATE INDEX taxonomy_code ON npidata(taxonomy_code)')\n",
    "db.execute('CREATE INDEX npi ON npidata(npi)')\n",
    "db.execute('CREATE INDEX first_name ON npidata(first_name)')\n",
    "db.execute('CREATE INDEX last_name ON npidata(last_name)')\n",
    "db.execute('CREATE INDEX entity_type_code ON npidata(entity_type_code)')\n",
    "db.execute('CREATE INDEX organization_name ON npidata(organization_name)')\n",
    "db.execute('CREATE INDEX location_address_city_name ON npidata(location_address_city_name)')\n",
    "db.execute('CREATE INDEX location_address_state_name ON npidata(location_address_state_name)')\n",
    "db.execute('CREATE INDEX location_address_postal_code ON npidata(location_address_postal_code)')\n",
    "\n",
    "db.close()"
   ]
  },
  {
   "cell_type": "code",
   "execution_count": 6,
   "metadata": {},
   "outputs": [],
   "source": [
    "\n",
    "db = sqlite3.connect('./data/hop_db.sqlite')\n",
    "\n",
    "# taxonomy table\n",
    "db.execute('CREATE INDEX t_code ON taxonomy(taxonomy_code)')\n",
    "db.execute('CREATE INDEX display_name ON taxonomy(display_name)')\n",
    "db.execute('CREATE INDEX classification ON taxonomy(classification)')\n",
    "\n",
    "db.close()"
   ]
  },
  {
   "cell_type": "code",
   "execution_count": 7,
   "metadata": {},
   "outputs": [],
   "source": [
    "\n",
    "db = sqlite3.connect('./data/hop_db.sqlite')\n",
    "\n",
    "#zip_cbsa table\n",
    "db.execute('CREATE INDEX zip ON zip_to_cbsa(zip)')\n",
    "db.execute('CREATE INDEX city ON zip_to_cbsa(city)')\n",
    "db.execute('CREATE INDEX state ON zip_to_cbsa(state)')\n",
    "db.execute('CREATE INDEX cbsa ON zip_to_cbsa(cbsa)')\n",
    "\n",
    "db.close()"
   ]
  }
 ],
 "metadata": {
  "kernelspec": {
   "display_name": "base",
   "language": "python",
   "name": "python3"
  },
  "language_info": {
   "codemirror_mode": {
    "name": "ipython",
    "version": 3
   },
   "file_extension": ".py",
   "mimetype": "text/x-python",
   "name": "python",
   "nbconvert_exporter": "python",
   "pygments_lexer": "ipython3",
   "version": "3.9.12"
  },
  "orig_nbformat": 4,
  "vscode": {
   "interpreter": {
    "hash": "08210294964727e4010dccc398c44f22b92a2e77e2aceea574ad21eae77cd8e8"
   }
  }
 },
 "nbformat": 4,
 "nbformat_minor": 2
}
