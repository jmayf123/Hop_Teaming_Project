{
 "cells": [
  {
   "cell_type": "code",
   "execution_count": 1,
   "id": "b79dfd61",
   "metadata": {},
   "outputs": [],
   "source": [
    "import pandas as pd\n",
    "import sqlite3\n",
    "import numpy as np\n",
    "from tqdm.notebook import tqdm\n",
    "import os.path\n",
    "from os import path\n"
   ]
  },
  {
   "cell_type": "markdown",
   "id": "2adbcb22",
   "metadata": {},
   "source": [
    "# 1 DocGraph_Hop_Teaming_2018"
   ]
  },
  {
   "cell_type": "code",
   "execution_count": null,
   "id": "7d81f77e",
   "metadata": {},
   "outputs": [],
   "source": []
  },
  {
   "cell_type": "markdown",
   "id": "bccbbe25",
   "metadata": {},
   "source": [
    "## 1.1 Read sample hop data"
   ]
  },
  {
   "cell_type": "code",
   "execution_count": null,
   "id": "8a59934b",
   "metadata": {},
   "outputs": [],
   "source": [
    "#Sample filters\n",
    "hop = pd.read_csv('../data/DocGraph_Hop_Teaming_2018.csv', \n",
    "                          nrows = 10000) #.query('transaction_count  >= 50').query('patient_count < 50')\n",
    "hop= hop[(hop['transaction_count'] >= 25) & (hop['average_day_wait'] < 90 )]\n"
   ]
  },
  {
   "cell_type": "code",
   "execution_count": null,
   "id": "6f1ef53a",
   "metadata": {
    "scrolled": true
   },
   "outputs": [],
   "source": [
    "hop"
   ]
  },
  {
   "cell_type": "markdown",
   "id": "97b9a0eb",
   "metadata": {},
   "source": [
    "## 1.2 Create hop_db database and load hop table"
   ]
  },
  {
   "cell_type": "code",
   "execution_count": 9,
   "id": "f465949b",
   "metadata": {},
   "outputs": [
    {
     "data": {
      "application/vnd.jupyter.widget-view+json": {
       "model_id": "d1a91825d6f743f288f062688e0ade5f",
       "version_major": 2,
       "version_minor": 0
      },
      "text/plain": [
       "0it [00:00, ?it/s]"
      ]
     },
     "metadata": {},
     "output_type": "display_data"
    }
   ],
   "source": [
    "if path.exists(\"../data/hop_db.sqlite\") == True:   \n",
    "   with sqlite3.connect('../data/hop_db.sqlite') as db: \n",
    "\n",
    "    for chunk in tqdm(pd.read_csv('../data/DocGraph_Hop_Teaming_2018.csv', chunksize = 10000)):\n",
    "        chunk = chunk[(chunk['transaction_count'] >= 25 ) & chunk['average_day_wait'] < 90]       \n",
    "        chunk.columns = [x.lower().replace(' ', '_') for x in chunk.columns]      # Clean up the column names\n",
    "        chunk.to_sql('hop', db, if_exists = 'append', index = False)  "
   ]
  },
  {
   "cell_type": "markdown",
   "id": "fbc83469",
   "metadata": {},
   "source": [
    "# 2 Read NPPES file and load npi table  "
   ]
  },
  {
   "cell_type": "markdown",
   "id": "9d604c77",
   "metadata": {},
   "source": [
    "## 2.1 Create a list for column names from npi file"
   ]
  },
  {
   "cell_type": "code",
   "execution_count": 5,
   "id": "6d9082ac",
   "metadata": {},
   "outputs": [],
   "source": [
    "result_cols =['NPI',\n",
    "              'Entity Type Code',\n",
    "              'Provider Organization Name (Legal Business Name)',\n",
    "              'Provider Last Name (Legal Name)',\n",
    "              'Provider First Name',\n",
    "              'Provider Middle Name',\n",
    "              'Provider Name Prefix Text',\n",
    "              'Provider Name Suffix Text',\n",
    "              'Provider Credential Text',\n",
    "              'Provider First Line Business Practice Location Address',\n",
    "              'Provider Second Line Business Practice Location Address',\n",
    "              'Provider Business Practice Location Address City Name',\n",
    "              'Provider Business Practice Location Address State Name',\n",
    "              'Provider Business Practice Location Address Postal Code',\n",
    "              'Healthcare Provider Taxonomy Code_1',\n",
    "              'Healthcare Provider Taxonomy Code_2',\n",
    "              'Healthcare Provider Taxonomy Code_3',\n",
    "              'Healthcare Provider Taxonomy Code_4',\n",
    "              'Healthcare Provider Taxonomy Code_5',\n",
    "              'Healthcare Provider Taxonomy Code_6',\n",
    "              'Healthcare Provider Taxonomy Code_7',\n",
    "              'Healthcare Provider Taxonomy Code_8',\n",
    "              'Healthcare Provider Taxonomy Code_9',\n",
    "              'Healthcare Provider Taxonomy Code_10',\n",
    "              'Healthcare Provider Taxonomy Code_11',\n",
    "              'Healthcare Provider Taxonomy Code_12',\n",
    "              'Healthcare Provider Taxonomy Code_13',\n",
    "              'Healthcare Provider Taxonomy Code_14',\n",
    "              'Healthcare Provider Taxonomy Code_15',\n",
    "              'Healthcare Provider Primary Taxonomy Switch_1',\n",
    "              'Healthcare Provider Primary Taxonomy Switch_2',\n",
    "              'Healthcare Provider Primary Taxonomy Switch_3',\n",
    "              'Healthcare Provider Primary Taxonomy Switch_4',\n",
    "              'Healthcare Provider Primary Taxonomy Switch_5',\n",
    "              'Healthcare Provider Primary Taxonomy Switch_6',\n",
    "              'Healthcare Provider Primary Taxonomy Switch_7',\n",
    "              'Healthcare Provider Primary Taxonomy Switch_8',\n",
    "              'Healthcare Provider Primary Taxonomy Switch_9',\n",
    "              'Healthcare Provider Primary Taxonomy Switch_10',\n",
    "              'Healthcare Provider Primary Taxonomy Switch_11',\n",
    "              'Healthcare Provider Primary Taxonomy Switch_12',\n",
    "              'Healthcare Provider Primary Taxonomy Switch_13',\n",
    "              'Healthcare Provider Primary Taxonomy Switch_14',\n",
    "              'Healthcare Provider Primary Taxonomy Switch_15']"
   ]
  },
  {
   "cell_type": "markdown",
   "id": "fdcc4c04",
   "metadata": {},
   "source": [
    "## 2.2 Read sample data"
   ]
  },
  {
   "cell_type": "code",
   "execution_count": null,
   "id": "20e0c195",
   "metadata": {
    "scrolled": true
   },
   "outputs": [],
   "source": [
    "# Read sample data\n",
    "df = pd.read_csv('../NPPES_Data_Dissemination_February_2023/npidata_pfile_20050523-20230212.csv', \n",
    "                          nrows = 10000, usecols =['Provider Organization Name (Legal Business Name)'])\n",
    "\n",
    "\n",
    "df"
   ]
  },
  {
   "cell_type": "code",
   "execution_count": 6,
   "id": "1a69a73f",
   "metadata": {},
   "outputs": [],
   "source": [
    "# Create a function to deal with the leading zeroes that are missing from zip codes\n",
    "\n",
    "def zip_zeroes(x):\n",
    "    if len(x) > 5:\n",
    "        return x.zfill(9)[:5]\n",
    "    elif len(x) > 0:\n",
    "        return x.zfill(5)\n",
    "    else: return np.nan"
   ]
  },
  {
   "cell_type": "code",
   "execution_count": 7,
   "id": "5e9032c0",
   "metadata": {},
   "outputs": [],
   "source": [
    "\n",
    "db = sqlite3.connect('../data/hop_db.sqlite')"
   ]
  },
  {
   "cell_type": "code",
   "execution_count": 8,
   "id": "fbceeb06",
   "metadata": {},
   "outputs": [
    {
     "data": {
      "application/vnd.jupyter.widget-view+json": {
       "model_id": "376e917acc9141d7a1494d3b56fce089",
       "version_major": 2,
       "version_minor": 0
      },
      "text/plain": [
       "0it [00:00, ?it/s]"
      ]
     },
     "metadata": {},
     "output_type": "display_data"
    }
   ],
   "source": [
    "# create the providers table from npi/nppes data and add it to the database\n",
    "for chunk in tqdm(pd.read_csv('../NPPES_Data_Dissemination_February_2023/npidata_pfile_20050523-20230212.csv', \n",
    "                              usecols = result_cols,\n",
    "                              chunksize = 100000,\n",
    "                              low_memory = False)):\n",
    "    \n",
    "    # For providers that have indicated a primary taxonomy code, pull that code into a new column\n",
    "    chunk['taxonomy_code'] = np.nan\n",
    "    for n in range(1, 16):\n",
    "        x = str(n)\n",
    "        chunk.loc[chunk[f'Healthcare Provider Primary Taxonomy Switch_{x}'] == 'Y', \n",
    "                       'taxonomy_code'] = chunk[f'Healthcare Provider Taxonomy Code_{x}']\n",
    "        \n",
    "    # For providers that do not indicate a primary taxonomy code, pull the code from the first taxonomy column\n",
    "    chunk.loc[chunk['taxonomy_code'].isna(), 'taxonomy_code'] = chunk['Healthcare Provider Taxonomy Code_1']\n",
    "    \n",
    "    # Drop the columns no longer needed\n",
    "    chunk = chunk.drop(columns = ['Healthcare Provider Taxonomy Code_1', 'Healthcare Provider Primary Taxonomy Switch_1',\n",
    "                                  'Healthcare Provider Taxonomy Code_2', 'Healthcare Provider Primary Taxonomy Switch_2',\n",
    "                                  'Healthcare Provider Taxonomy Code_3', 'Healthcare Provider Primary Taxonomy Switch_3',\n",
    "                                  'Healthcare Provider Taxonomy Code_4', 'Healthcare Provider Primary Taxonomy Switch_4',\n",
    "                                  'Healthcare Provider Taxonomy Code_5', 'Healthcare Provider Primary Taxonomy Switch_5',\n",
    "                                  'Healthcare Provider Taxonomy Code_6', 'Healthcare Provider Primary Taxonomy Switch_6',\n",
    "                                  'Healthcare Provider Taxonomy Code_7', 'Healthcare Provider Primary Taxonomy Switch_7',\n",
    "                                  'Healthcare Provider Taxonomy Code_8', 'Healthcare Provider Primary Taxonomy Switch_8',\n",
    "                                  'Healthcare Provider Taxonomy Code_9', 'Healthcare Provider Primary Taxonomy Switch_9',\n",
    "                                  'Healthcare Provider Taxonomy Code_10', 'Healthcare Provider Primary Taxonomy Switch_10',\n",
    "                                  'Healthcare Provider Taxonomy Code_11', 'Healthcare Provider Primary Taxonomy Switch_11',\n",
    "                                  'Healthcare Provider Taxonomy Code_12', 'Healthcare Provider Primary Taxonomy Switch_12',\n",
    "                                  'Healthcare Provider Taxonomy Code_13', 'Healthcare Provider Primary Taxonomy Switch_13',\n",
    "                                  'Healthcare Provider Taxonomy Code_14', 'Healthcare Provider Primary Taxonomy Switch_14',\n",
    "                                  'Healthcare Provider Taxonomy Code_15', 'Healthcare Provider Primary Taxonomy Switch_15'])\n",
    "     \n",
    "    #clean up zip code column by putting missing leading zeroes back and getting the 9-digit entries down to 5\n",
    "    chunk['Provider Business Practice Location Address Postal Code'] = chunk['Provider Business Practice Location Address Postal Code'].astype(str).apply(zip_zeroes)\n",
    "    \n",
    "    # Clean up the column names\n",
    "    chunk.columns = [x.lower()\n",
    "                     .replace('provider ', '')\n",
    "                     .replace('business ', '')\n",
    "                     .replace('practice ', '')\n",
    "                     .replace(' text', '')\n",
    "                     .replace(' (legal name)', '')\n",
    "                     .replace(' ', '_') for x in chunk.columns]                  \n",
    "   \n",
    "    # append to provider table\n",
    "    chunk.to_sql('npi', db, if_exists = 'append', index = False)   "
   ]
  },
  {
   "cell_type": "code",
   "execution_count": 10,
   "id": "e12ffcf6",
   "metadata": {},
   "outputs": [],
   "source": [
    "db.close()"
   ]
  },
  {
   "cell_type": "markdown",
   "id": "341baf9a",
   "metadata": {},
   "source": [
    "# 3. taxonomy file"
   ]
  },
  {
   "cell_type": "markdown",
   "id": "caecf359",
   "metadata": {},
   "source": [
    "## 3.1 Sample read"
   ]
  },
  {
   "cell_type": "code",
   "execution_count": null,
   "id": "4f2cdb71",
   "metadata": {},
   "outputs": [],
   "source": [
    "tax_deets = pd.read_csv('../data/nucc_taxonomy_230.csv')\n"
   ]
  },
  {
   "cell_type": "markdown",
   "id": "a47ae489",
   "metadata": {},
   "source": [
    "## 3.2 Load table taxonomy"
   ]
  },
  {
   "cell_type": "code",
   "execution_count": 11,
   "id": "d201c7f3",
   "metadata": {},
   "outputs": [
    {
     "data": {
      "application/vnd.jupyter.widget-view+json": {
       "model_id": "3cb7fc35326b4236868c2c47c6445891",
       "version_major": 2,
       "version_minor": 0
      },
      "text/plain": [
       "0it [00:00, ?it/s]"
      ]
     },
     "metadata": {},
     "output_type": "display_data"
    }
   ],
   "source": [
    "#uncomment  \n",
    "with sqlite3.connect('../data/hop_db.sqlite') as db: \n",
    "\n",
    "    for chunk in tqdm(pd.read_csv('../data/nucc_taxonomy_230.csv', chunksize = 10000)):             \n",
    "        chunk.columns = [x.lower().replace(' ', '_') for x in chunk.columns]      # Clean up the column names\n",
    "        # make the taxonomy code column name match the taxonomy code column name in the provider table\n",
    "        chunk = chunk.rename(columns = {'code' : 'taxonomy_code'})\n",
    "\n",
    "        chunk.to_sql('taxonomy', db, if_exists = 'append', index = False)    "
   ]
  },
  {
   "cell_type": "markdown",
   "id": "b4e3e281",
   "metadata": {},
   "source": [
    "# 4 ZIP_CBSA file"
   ]
  },
  {
   "cell_type": "markdown",
   "id": "dbd6767d",
   "metadata": {},
   "source": [
    "## 4.1 Read sample ZIP_CBSA"
   ]
  },
  {
   "cell_type": "code",
   "execution_count": null,
   "id": "3b6e629a",
   "metadata": {},
   "outputs": [],
   "source": [
    "df = pd.read_excel('../data/ZIP_CBSA_122021.xlsx')"
   ]
  },
  {
   "cell_type": "code",
   "execution_count": null,
   "id": "17764bd8",
   "metadata": {
    "scrolled": false
   },
   "outputs": [],
   "source": [
    "df"
   ]
  },
  {
   "cell_type": "markdown",
   "id": "82f379e5",
   "metadata": {},
   "source": [
    "## 4.2 Load zip_cbsa table"
   ]
  },
  {
   "cell_type": "code",
   "execution_count": 12,
   "id": "fd436b0d",
   "metadata": {},
   "outputs": [],
   "source": [
    "with sqlite3.connect('../data/hop_db.sqlite') as db: \n",
    "    df_zip = pd.read_excel('../data/ZIP_CBSA_122021.xlsx')\n",
    "    df_zip = df_zip.rename(columns = {'usps_zip_pref_city' : 'city','usps_zip_pref_state' : 'state'})\n",
    "    #get the leading zeroes back in place\n",
    "    df_zip['zip'] = df_zip['zip'].astype(str).str.zfill(5)       \n",
    "    df_zip.to_sql('zip_cbsa', db, if_exists = 'append', index = False) "
   ]
  },
  {
   "cell_type": "code",
   "execution_count": null,
   "id": "700f3ad4",
   "metadata": {},
   "outputs": [],
   "source": []
  },
  {
   "cell_type": "code",
   "execution_count": null,
   "id": "f5e864ff",
   "metadata": {},
   "outputs": [],
   "source": []
  }
 ],
 "metadata": {
  "kernelspec": {
   "display_name": "Python 3 (ipykernel)",
   "language": "python",
   "name": "python3"
  },
  "language_info": {
   "codemirror_mode": {
    "name": "ipython",
    "version": 3
   },
   "file_extension": ".py",
   "mimetype": "text/x-python",
   "name": "python",
   "nbconvert_exporter": "python",
   "pygments_lexer": "ipython3",
   "version": "3.9.12"
  }
 },
 "nbformat": 4,
 "nbformat_minor": 5
}
