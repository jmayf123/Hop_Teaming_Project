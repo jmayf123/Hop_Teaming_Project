{
 "cells": [
  {
   "cell_type": "code",
   "execution_count": 1,
   "id": "a46e7ed7",
   "metadata": {},
   "outputs": [],
   "source": [
    "import sqlite3\n",
    "import pandas as pd\n",
    "import numpy as np"
   ]
  },
  {
   "cell_type": "code",
   "execution_count": 2,
   "id": "2bde72de",
   "metadata": {},
   "outputs": [],
   "source": [
    "db = sqlite3.connect('../data/hop_db.sqlite')\n",
    "\n",
    "# hop table\n",
    "db.execute('CREATE INDEX npi_from_npi ON hop(from_npi)')\n",
    "db.execute('CREATE INDEX npi_to_npi ON hop(to_npi)')\n",
    "db.execute('CREATE INDEX npi_patient_countt ON hop(patient_count)')\n",
    "db.execute('CREATE INDEX npi_transaction_count ON hop(transaction_count)')\n",
    "db.execute('CREATE INDEX npi_average_day_wait ON hop(average_day_wait)')\n",
    "\n",
    "db.close()"
   ]
  },
  {
   "cell_type": "code",
   "execution_count": 4,
   "id": "572443e5",
   "metadata": {},
   "outputs": [],
   "source": [
    "db = sqlite3.connect('../data/hop_db.sqlite')\n",
    "\n",
    "# npidata table\n",
    "db.execute('CREATE INDEX npi_taxonomy_code ON npi(taxonomy_code)')\n",
    "db.execute('CREATE INDEX npi_npi ON npi(npi)')\n",
    "db.execute('CREATE INDEX npi_entity_type_code ON npi(entity_type_code)')\n",
    "db.execute('CREATE INDEX npi_organization_name ON npi(organization_name)')\n",
    "db.execute('CREATE INDEX npi_location_address_city_name ON npi(location_address_city_name)')\n",
    "db.execute('CREATE INDEX npi_location_address_state_name ON npi(location_address_state_name)')\n",
    "db.execute('CREATE INDEX npi_location_address_postal_code ON npi(location_address_postal_code)')\n",
    "\n",
    "db.close()"
   ]
  },
  {
   "cell_type": "code",
   "execution_count": 5,
   "id": "03d4ea24",
   "metadata": {},
   "outputs": [],
   "source": [
    "db = sqlite3.connect('../data/hop_db.sqlite')\n",
    "\n",
    "# taxonomy table\n",
    "db.execute('CREATE INDEX t_code ON taxonomy(taxonomy_code)')\n",
    "db.execute('CREATE INDEX t_display_name ON taxonomy(display_name)')\n",
    "db.execute('CREATE INDEX t_classification ON taxonomy(classification)')\n",
    "\n",
    "db.close()"
   ]
  },
  {
   "cell_type": "code",
   "execution_count": 6,
   "id": "b7d71cd6",
   "metadata": {},
   "outputs": [
    {
     "ename": "OperationalError",
     "evalue": "no such table: main.zip_to_cbsa",
     "output_type": "error",
     "traceback": [
      "\u001b[1;31m---------------------------------------------------------------------------\u001b[0m",
      "\u001b[1;31mOperationalError\u001b[0m                          Traceback (most recent call last)",
      "Input \u001b[1;32mIn [6]\u001b[0m, in \u001b[0;36m<cell line: 4>\u001b[1;34m()\u001b[0m\n\u001b[0;32m      1\u001b[0m db \u001b[38;5;241m=\u001b[39m sqlite3\u001b[38;5;241m.\u001b[39mconnect(\u001b[38;5;124m'\u001b[39m\u001b[38;5;124m../data/hop_db.sqlite\u001b[39m\u001b[38;5;124m'\u001b[39m)\n\u001b[0;32m      3\u001b[0m \u001b[38;5;66;03m#zip_cbsa table\u001b[39;00m\n\u001b[1;32m----> 4\u001b[0m \u001b[43mdb\u001b[49m\u001b[38;5;241;43m.\u001b[39;49m\u001b[43mexecute\u001b[49m\u001b[43m(\u001b[49m\u001b[38;5;124;43m'\u001b[39;49m\u001b[38;5;124;43mCREATE INDEX zip ON zip_to_cbsa(zip)\u001b[39;49m\u001b[38;5;124;43m'\u001b[39;49m\u001b[43m)\u001b[49m\n\u001b[0;32m      5\u001b[0m db\u001b[38;5;241m.\u001b[39mexecute(\u001b[38;5;124m'\u001b[39m\u001b[38;5;124mCREATE INDEX city ON zip_to_cbsa(city)\u001b[39m\u001b[38;5;124m'\u001b[39m)\n\u001b[0;32m      6\u001b[0m db\u001b[38;5;241m.\u001b[39mexecute(\u001b[38;5;124m'\u001b[39m\u001b[38;5;124mCREATE INDEX state ON zip_to_cbsa(state)\u001b[39m\u001b[38;5;124m'\u001b[39m)\n",
      "\u001b[1;31mOperationalError\u001b[0m: no such table: main.zip_to_cbsa"
     ]
    }
   ],
   "source": [
    "db = sqlite3.connect('../data/hop_db.sqlite')\n",
    "\n",
    "#zip_cbsa table\n",
    "db.execute('CREATE INDEX zip ON zip_cbsa(zip)')\n",
    "db.execute('CREATE INDEX city ON zip_cbsa(city)')\n",
    "db.execute('CREATE INDEX state ON zip_cbsa(state)')\n",
    "db.execute('CREATE INDEX cbsa ON zip_cbsa(cbsa)')\n",
    "\n",
    "db.close()"
   ]
  },
  {
   "cell_type": "code",
   "execution_count": null,
   "id": "5b2bb737",
   "metadata": {},
   "outputs": [],
   "source": []
  },
  {
   "cell_type": "code",
   "execution_count": null,
   "id": "a458c760",
   "metadata": {},
   "outputs": [],
   "source": []
  }
 ],
 "metadata": {
  "kernelspec": {
   "display_name": "Python 3 (ipykernel)",
   "language": "python",
   "name": "python3"
  },
  "language_info": {
   "codemirror_mode": {
    "name": "ipython",
    "version": 3
   },
   "file_extension": ".py",
   "mimetype": "text/x-python",
   "name": "python",
   "nbconvert_exporter": "python",
   "pygments_lexer": "ipython3",
   "version": "3.9.12"
  }
 },
 "nbformat": 4,
 "nbformat_minor": 5
}
