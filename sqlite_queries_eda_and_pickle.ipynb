{
 "cells": [
  {
   "cell_type": "code",
   "execution_count": null,
   "id": "1853596a",
   "metadata": {},
   "outputs": [],
   "source": [
    "import sqlite3\n",
    "import pandas as pd\n",
    "import numpy as np"
   ]
  },
  {
   "cell_type": "markdown",
   "id": "26cdacd9",
   "metadata": {},
   "source": [
    "Build a profile of providers referring patients to the major hospitals in Nashville. Are certain specialties more likely to refer to a particular hospital over the others?"
   ]
  },
  {
   "cell_type": "code",
   "execution_count": null,
   "id": "abca8440",
   "metadata": {},
   "outputs": [],
   "source": [
    "# We decided to define \"Major Hospitals\" somewhat narrowly, those with a display_name from the taxonomy table of \n",
    "# \"General Acute Care Hospitals\"\n",
    "# This excludes children's hospitals, critical access hospitals, psychiatric hospitals, etc.\n",
    "\n",
    "\n",
    "#creating a query to return the npi and organization name for all Nashville hospitals\n",
    "query = \"\"\"\n",
    "SELECT npi, organization_name \n",
    "FROM npidata\n",
    "LEFT JOIN taxonomy\n",
    "USING(taxonomy_code)\n",
    "WHERE entity_type_code = 2\n",
    "AND location_address_city_name = 'NASHVILLE'\n",
    "AND location_address_state_name = 'TN'\n",
    "AND display_name = 'General Acute Care Hospital'\n",
    "\"\"\"\n",
    "\n",
    "with sqlite3.connect('../data/hop_db.sqlite') as db: \n",
    "    nash_hosp = pd.read_sql(query, db)\n",
    "    \n",
    "db.close()"
   ]
  },
  {
   "cell_type": "code",
   "execution_count": null,
   "id": "0365293f",
   "metadata": {},
   "outputs": [],
   "source": [
    "# Now pulling all providers that refer to Nashville hospitals\n",
    "# First, set my Nashville hospital query as a CTE, put aliases in place for clearer column names\n",
    "# Then join the CTE to the hop table on the to_npi column to get only the referrals to these hospitals\n",
    "# Then bring in details about the providers making the referrals from the npi_data and taxonomy tables\n",
    "\n",
    "query = \"\"\"\n",
    "WITH nash_hosp AS (\n",
    "    SELECT npi AS hosp_npi, organization_name AS hospital\n",
    "    FROM npidata\n",
    "    LEFT JOIN taxonomy\n",
    "    USING(taxonomy_code)\n",
    "    WHERE entity_type_code = 2\n",
    "    AND location_address_city_name = 'NASHVILLE'\n",
    "    AND location_address_state_name = 'TN'\n",
    "    AND classification = 'General Acute Care Hospital'\n",
    ")\n",
    "SELECT transaction_count, \n",
    "       hospital,\n",
    "       location_address_city_name, \n",
    "       location_address_state_name, \n",
    "       location_address_postal_code, \n",
    "       display_name AS specialty, \n",
    "       from_npi, \n",
    "       first_name,\n",
    "       last_name,\n",
    "       credential,\n",
    "       patient_count,\n",
    "       average_day_wait\n",
    "FROM hop\n",
    "INNER JOIN npidata\n",
    "ON from_npi = npi\n",
    "INNER JOIN nash_hosp\n",
    "ON to_npi = hosp_npi\n",
    "LEFT JOIN taxonomy\n",
    "USING(taxonomy_code)\n",
    "WHERE transaction_count >= 50\n",
    "AND average_day_wait < 50\n",
    "AND entity_type_code = 1\n",
    "\"\"\"\n",
    "\n",
    "with sqlite3.connect('../data/hop_db.sqlite') as db: \n",
    "    nash_hosp_referrers = pd.read_sql(query, db)\n",
    "    \n",
    "db.close()"
   ]
  },
  {
   "cell_type": "code",
   "execution_count": null,
   "id": "cfc76002",
   "metadata": {
    "scrolled": true
   },
   "outputs": [],
   "source": [
    "# Number of unique providers referring to Nashville hospitals by state\n",
    "\n",
    "(\n",
    "    nash_hosp_referrers\n",
    "    .groupby('location_address_state_name')['from_npi']\n",
    "    .nunique()\n",
    "    .to_frame()\n",
    "    .reset_index()\n",
    "    .sort_values('from_npi', ascending = False)\n",
    ")"
   ]
  },
  {
   "cell_type": "code",
   "execution_count": null,
   "id": "8321676d",
   "metadata": {
    "scrolled": true
   },
   "outputs": [],
   "source": [
    "# For the providers within TN, the number referring from different cities\n",
    "\n",
    "(\n",
    "    nash_hosp_referrers\n",
    "    .loc[nash_hosp_referrers['location_address_state_name'] == 'TN']\n",
    "    .groupby('location_address_city_name')['from_npi']\n",
    "    .nunique()\n",
    "    .to_frame()\n",
    "    .reset_index()\n",
    "    .sort_values('from_npi', ascending = False)\n",
    "    .head(36)\n",
    ")"
   ]
  },
  {
   "cell_type": "markdown",
   "id": "fd93e42f",
   "metadata": {},
   "source": [
    "#### Exploring the top providers in terms of referrals for each hospital"
   ]
  },
  {
   "cell_type": "code",
   "execution_count": null,
   "id": "574056c2",
   "metadata": {},
   "outputs": [],
   "source": [
    "nash_hosp_referrers['hosp_top_referrals'] = (\n",
    "    nash_hosp_referrers\n",
    "    .groupby('hospital')['transaction_count']\n",
    "    .rank(ascending = False)\n",
    ")\n",
    "\n",
    "# Looking at the top 10 for each hospital\n",
    "nash_hosp_referrers.loc[nash_hosp_referrers['hosp_top_referrals'] <= 10].sort_values(by= ['hospital', 'hosp_top_referrals'])"
   ]
  },
  {
   "cell_type": "markdown",
   "id": "0de11598",
   "metadata": {},
   "source": [
    "#### Now taking a look referrals at the specialty level, which hospitals they refer to most"
   ]
  },
  {
   "cell_type": "code",
   "execution_count": null,
   "id": "613c8648",
   "metadata": {
    "scrolled": false
   },
   "outputs": [],
   "source": [
    "# create a df that indicates the number of referrals (transactions) made by practitioners of a given specialty to a given hospital\n",
    "referring_specialties = (\n",
    "    nash_hosp_referrers\n",
    "    .groupby(['specialty', 'hospital'])['transaction_count']\n",
    "    .sum()\n",
    "    .to_frame()\n",
    "    .reset_index()\n",
    "    .sort_values(by = ['specialty', 'transaction_count'], ascending = [True, False])\n",
    ")\n",
    "\n",
    "# rank the hospitals based on number of referrals for each specialty, rank of 1 means most referrals\n",
    "referring_specialties['rank'] = (\n",
    "    referring_specialties\n",
    "    .groupby('specialty')['transaction_count']\n",
    "    .rank(ascending = False)\n",
    ")\n",
    "\n",
    "# create a column that creates a percent based comparison referrals within a given specialty\n",
    "# null values in this column indicate there is no hospital receiving fewer referrals\n",
    "# smaller values here indicate that a much smaller percentage of referrals are going to the hospital with the next higher rank\n",
    "referring_specialties['percent_for_next'] = (\n",
    "    round(100 * referring_specialties.groupby('specialty')['transaction_count'].shift(-1) \n",
    "          / \n",
    "          referring_specialties['transaction_count'], 2)\n",
    ")\n",
    "\n",
    "referring_specialties"
   ]
  },
  {
   "cell_type": "code",
   "execution_count": null,
   "id": "c2f68e73",
   "metadata": {
    "scrolled": false
   },
   "outputs": [],
   "source": [
    "# Quick look at how many times hospitals rank #1 for referrals from different specialties\n",
    "referring_specialties.loc[referring_specialties['rank'] == 1.0]['hospital'].value_counts()"
   ]
  },
  {
   "cell_type": "code",
   "execution_count": null,
   "id": "24a3612f",
   "metadata": {
    "scrolled": true
   },
   "outputs": [],
   "source": [
    "# now looking for hospitals ranked #1 and sorting to see those that either have NO competition\n",
    "# meaning no other hospitals receive referrals from this specialty, or where there is a step drop in the number of \n",
    "# referrals to the #2 ranked hospital (at least a 25% drop)\n",
    "(\n",
    "    referring_specialties\n",
    "    .loc[(referring_specialties['rank'] == 1.0)\n",
    "        &\n",
    "        ((referring_specialties['percent_for_next'] < 75)\n",
    "        | \n",
    "         (referring_specialties['percent_for_next'].isna()))]\n",
    "    .sort_values('percent_for_next', na_position = 'first')\n",
    "    .head(60)\n",
    ")"
   ]
  },
  {
   "cell_type": "markdown",
   "id": "4a62de75",
   "metadata": {},
   "source": [
    "#### Broadening the specialty definitions"
   ]
  },
  {
   "cell_type": "code",
   "execution_count": null,
   "id": "9dc04538",
   "metadata": {},
   "outputs": [],
   "source": [
    "query = \"\"\"\n",
    "WITH nash_hosp AS (\n",
    "    SELECT npi AS hosp_npi, organization_name AS hospital\n",
    "    FROM npidata\n",
    "    LEFT JOIN taxonomy\n",
    "    USING(taxonomy_code)\n",
    "    WHERE entity_type_code = 2\n",
    "    AND location_address_city_name = 'NASHVILLE'\n",
    "    AND location_address_state_name = 'TN'\n",
    "    AND classification = 'General Acute Care Hospital'\n",
    ")\n",
    "SELECT from_npi, \n",
    "       first_name,\n",
    "       last_name,\n",
    "       credential, \n",
    "       location_address_city_name, \n",
    "       location_address_state_name, \n",
    "       location_address_postal_code, \n",
    "       classification AS specialty, \n",
    "       display_name AS sub_specialty,\n",
    "       transaction_count,\n",
    "       patient_count,\n",
    "       average_day_wait,\n",
    "       hospital\n",
    "FROM hop\n",
    "INNER JOIN npidata\n",
    "ON from_npi = npi\n",
    "INNER JOIN nash_hosp\n",
    "ON to_npi = hosp_npi\n",
    "LEFT JOIN taxonomy\n",
    "USING(taxonomy_code)\n",
    "WHERE transaction_count >= 50\n",
    "AND average_day_wait < 50\n",
    "AND entity_type_code = 1\n",
    "\"\"\"\n",
    "\n",
    "with sqlite3.connect('../data/hop_db.sqlite') as db: \n",
    "    nash_hosp_referrers_b = pd.read_sql(query, db)\n",
    "    \n",
    "db.close()"
   ]
  },
  {
   "cell_type": "code",
   "execution_count": null,
   "id": "6d2e933c",
   "metadata": {},
   "outputs": [],
   "source": [
    "nash_hosp_referrers_b "
   ]
  },
  {
   "cell_type": "code",
   "execution_count": null,
   "id": "e278d841",
   "metadata": {},
   "outputs": [],
   "source": [
    "# create a df that indicates the number of referrals (transactions) made by practitioners of a given specialty to a given hospital\n",
    "referring_specialties_b = (\n",
    "    nash_hosp_referrers_b\n",
    "    .groupby(['specialty', 'hospital'])['transaction_count']\n",
    "    .sum()\n",
    "    .to_frame()\n",
    "    .reset_index()\n",
    "    .sort_values(by = ['specialty', 'transaction_count'], ascending = [True, False])\n",
    ")\n",
    "\n",
    "# rank the hospitals based on number of referrals for each specialty, rank of 1 means most referrals\n",
    "referring_specialties_b['rank'] = (\n",
    "    referring_specialties_b\n",
    "    .groupby('specialty')['transaction_count']\n",
    "    .rank(ascending = False)\n",
    ")\n",
    "\n",
    "# create a column that creates a percent based comparison referrals within a given specialty\n",
    "# null values in this column indicate there is no hospital receiving fewer referrals\n",
    "# smaller values here indicate that a much smaller percentage of referrals are going to the hospital with the next higher rank\n",
    "referring_specialties_b['percent_for_next'] = (\n",
    "    round(100 * referring_specialties_b.groupby('specialty')['transaction_count'].shift(-1) \n",
    "          / \n",
    "          referring_specialties_b['transaction_count'], 2)\n",
    ")\n",
    "\n",
    "referring_specialties_b"
   ]
  },
  {
   "cell_type": "code",
   "execution_count": null,
   "id": "0c27e7fa",
   "metadata": {},
   "outputs": [],
   "source": [
    "(\n",
    "    referring_specialties_b\n",
    "    .loc[(referring_specialties_b['rank'] == 1.0)\n",
    "        &\n",
    "        ((referring_specialties_b['percent_for_next'] < 75)\n",
    "        | \n",
    "         (referring_specialties_b['percent_for_next'].isna()))]\n",
    "    .sort_values('percent_for_next', na_position = 'first')\n",
    ")"
   ]
  },
  {
   "cell_type": "markdown",
   "id": "96e3f10a",
   "metadata": {},
   "source": [
    "Determine which professionals Vanderbilt Hospital should reach out to in the Nashville area to expand their own patient volume.   \n",
    "    - First, research which professionals are sending significant numbers of patients only to competitor hospitals (such as TriStar Centennial Medical Center).  \n",
    "    - Next, consider the specialty of the provider. If Vanderbilt wants to increase volume from Orthopedic Surgeons or from Family Medicine doctors who should they reach out to in those areas?"
   ]
  },
  {
   "cell_type": "code",
   "execution_count": null,
   "id": "e9c00b5f",
   "metadata": {},
   "outputs": [],
   "source": [
    "(len(referring_specialties['specialty'].unique()) \n",
    " - \n",
    " len(referring_specialties.loc[referring_specialties['hospital'] == 'VANDERBILT UNIVERSITY MEDICAL CENTER'])\n",
    ")\n",
    "# of specialties (by display_name) that do not refer to Vanderbilt is 8"
   ]
  },
  {
   "cell_type": "code",
   "execution_count": null,
   "id": "9c164499",
   "metadata": {},
   "outputs": [],
   "source": [
    "(\n",
    "    referring_specialties\n",
    "    .loc[(referring_specialties['rank'] == 1.0)\n",
    "        & \n",
    "         (referring_specialties['percent_for_next'].isna())\n",
    "        &\n",
    "        (referring_specialties['hospital'] != 'VANDERBILT UNIVERSITY MEDICAL CENTER')]\n",
    "    .sort_values('percent_for_next', na_position = 'first')\n",
    ")"
   ]
  },
  {
   "cell_type": "code",
   "execution_count": null,
   "id": "14a13da2",
   "metadata": {},
   "outputs": [],
   "source": [
    "(len(referring_specialties_b['specialty'].unique()) \n",
    " - \n",
    " len(referring_specialties_b.loc[referring_specialties_b['hospital'] == 'VANDERBILT UNIVERSITY MEDICAL CENTER'])\n",
    ")\n",
    "# of specialties (by classification) that do not refer to Vanderbilt is 3"
   ]
  },
  {
   "cell_type": "code",
   "execution_count": null,
   "id": "6a8c96cb",
   "metadata": {},
   "outputs": [],
   "source": [
    "(\n",
    "    referring_specialties_b\n",
    "    .loc[(referring_specialties_b['rank'] == 1.0)\n",
    "        & \n",
    "         (referring_specialties_b['percent_for_next'].isna())\n",
    "        &\n",
    "        (referring_specialties_b['hospital'] != 'VANDERBILT UNIVERSITY MEDICAL CENTER')]\n",
    "    .sort_values('percent_for_next', na_position = 'first')\n",
    ")"
   ]
  },
  {
   "cell_type": "code",
   "execution_count": null,
   "id": "6a50d31f",
   "metadata": {},
   "outputs": [],
   "source": [
    "vandy_ref = nash_hosp_referrers.loc[nash_hosp_referrers['hospital'].str.contains(\"Vanderbilt\")]['from_npi'].unique()"
   ]
  },
  {
   "cell_type": "code",
   "execution_count": null,
   "id": "b431c1b1",
   "metadata": {},
   "outputs": [],
   "source": [
    "# top 40 providers (in terms of total referrals) NOT referring to Vandy at all\n",
    "(\n",
    "    nash_hosp_referrers\n",
    "    .loc[(~nash_hosp_referrers['from_npi'].isin(vandy_ref))\n",
    "         &\n",
    "         (nash_hosp_referrers['location_address_state_name'] == 'TN')]\n",
    "    .groupby(['from_npi', 'location_address_city_name', 'specialty'])\n",
    "    ['transaction_count'].sum()\n",
    "    .to_frame()\n",
    "    .reset_index()\n",
    "    .sort_values('transaction_count', ascending = False)\n",
    "    .head(40)\n",
    ")\n",
    "    "
   ]
  },
  {
   "cell_type": "code",
   "execution_count": null,
   "id": "07c6ed70",
   "metadata": {},
   "outputs": [],
   "source": [
    "# Creating a query to search for practitioners by specialty and see the number of referrals they are sending to hospitals\n",
    "# other than Vandy\n",
    "\n",
    "# Using the broader definition of specialties (classification) here\n",
    "specialty = 'Family Medicine'\n",
    "\n",
    "(\n",
    "    nash_hosp_referrers_b\n",
    "    .loc[(~nash_hosp_referrers_b['hospital'].str.contains('Vanderbilt'))\n",
    "         &\n",
    "         (nash_hosp_referrers_b['specialty'] == f'{specialty}')]\n",
    "    .groupby(['from_npi', 'location_address_state_name', 'location_address_city_name', 'specialty'])\n",
    "    ['transaction_count'].sum()\n",
    "    .to_frame()\n",
    "    .reset_index()\n",
    "    .sort_values('transaction_count', ascending = False)\n",
    ")"
   ]
  },
  {
   "cell_type": "code",
   "execution_count": null,
   "id": "12e11533",
   "metadata": {},
   "outputs": [],
   "source": [
    "#import pickle\n",
    "\n",
    "#with open('data/nash_hosp_referrers_b.pickle', 'wb') as file:\n",
    "#    pickle.dump(nash_hosp_referrers_b, file)"
   ]
  },
  {
   "cell_type": "code",
   "execution_count": null,
   "id": "a1d83810",
   "metadata": {},
   "outputs": [],
   "source": [
    "#with open('data/nash_hosp_referrers.pickle', 'wb') as file:\n",
    "#    pickle.dump(nash_hosp_referrers, file)"
   ]
  },
  {
   "cell_type": "code",
   "execution_count": null,
   "id": "50f2a698",
   "metadata": {},
   "outputs": [],
   "source": []
  }
 ],
 "metadata": {
  "kernelspec": {
   "display_name": "Python 3 (ipykernel)",
   "language": "python",
   "name": "python3"
  },
  "language_info": {
   "codemirror_mode": {
    "name": "ipython",
    "version": 3
   },
   "file_extension": ".py",
   "mimetype": "text/x-python",
   "name": "python",
   "nbconvert_exporter": "python",
   "pygments_lexer": "ipython3",
   "version": "3.9.12"
  }
 },
 "nbformat": 4,
 "nbformat_minor": 5
}
